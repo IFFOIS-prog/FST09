{
 "cells": [
  {
   "cell_type": "markdown",
   "metadata": {},
   "source": [
    "mkdir - make directory or folder\n",
    "\n",
    "rmdir - remove directory or folder\n",
    "\n",
    "pwd - print working directory\n",
    "\n",
    "ls - list all of folders\n",
    "\n",
    "cd - change directory\n",
    "\n",
    "cd .. - return to previous directory\n",
    "\n",
    "touch [filename].txt - create file\n",
    "\n",
    "rm [filename].txt - remove file\n",
    "\n"
   ]
  },
  {
   "cell_type": "markdown",
   "metadata": {},
   "source": []
  },
  {
   "cell_type": "markdown",
   "metadata": {},
   "source": []
  }
 ],
 "metadata": {
  "language_info": {
   "name": "python"
  }
 },
 "nbformat": 4,
 "nbformat_minor": 2
}
